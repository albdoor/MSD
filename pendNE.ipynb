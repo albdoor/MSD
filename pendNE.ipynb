{
 "cells": [
  {
   "cell_type": "code",
   "execution_count": 2,
   "metadata": {},
   "outputs": [],
   "source": [
    "import numpy as np\n",
    "import sympy as smp\n",
    "from scipy.integrate import odeint\n",
    "from sympy.solvers.solveset import linsolve, nonlinsolve\n",
    "import matplotlib.pyplot as plt"
   ]
  },
  {
   "cell_type": "code",
   "execution_count": 8,
   "metadata": {},
   "outputs": [
    {
     "data": {
      "text/plain": [
       "array([[0.333333333333333*L1**2*m1 + L1**2*m2*cos(\\theta_2(t)) + 1.33333333333333*L1**2*m2,\n",
       "        0.5*L1**2*m2*cos(\\theta_2(t)) + 0.333333333333333*L1**2*m2],\n",
       "       [0.5*L1**2*m2*cos(\\theta_2(t)) + 0.333333333333333*L1**2*m2,\n",
       "        0.333333333333333*L1**2*m2]], dtype=object)"
      ]
     },
     "execution_count": 8,
     "metadata": {},
     "output_type": "execute_result"
    }
   ],
   "source": [
    "t, g = smp.symbols('t g')\n",
    "m1, m2 = smp.symbols('m1 m2')\n",
    "L1, L2 = smp.symbols('L1, L2')\n",
    "the1, the2= smp.symbols(r'\\theta_1, \\theta_2', cls=smp.Function)\n",
    "the1 = the1(t)\n",
    "the2 = the2(t)\n",
    "A = np.array([[1/3*m1*L1**2+4/3*m2*L1**2+m2*smp.cos(the2)*L1**2, 1/3*m2*L1**2+1/2*m2*smp.cos(the2)*L1**2], [1/3*m2*L1**2+1/2*m2*smp.cos(the2)*L1**2, 1/3*m2*L1**2]])\n",
    "A"
   ]
  },
  {
   "cell_type": "code",
   "execution_count": 9,
   "metadata": {},
   "outputs": [],
   "source": [
    "the1_d = smp.diff(the1, t)\n",
    "the2_d = smp.diff(the2, t)\n",
    "the1_dd = smp.diff(the1_d, t)\n",
    "the2_dd = smp.diff(the2_d, t)"
   ]
  },
  {
   "cell_type": "code",
   "execution_count": 11,
   "metadata": {},
   "outputs": [],
   "source": [
    "hMatrix = np.array([[-1/2*m2*smp.sin(the2)*L1**2*the2_d**2 - m2*smp.sin(the2)*L1**2*the1_d*the2_d], [1/2*m2*smp.sin(the2)*L1**2*the1_d**2]])\n",
    "gMatrix = np.array([[(1/2*m1+m2)*g*L1*smp.cos(the1)+1/2*m2*g*L1*smp.cos(the1+the2)], [1/2*m2*g*L1*smp.cos(the1+the2)]])"
   ]
  },
  {
   "cell_type": "code",
   "execution_count": 12,
   "metadata": {},
   "outputs": [],
   "source": [
    "resMatrix = np.array([[the1_dd], [the2_dd]])"
   ]
  },
  {
   "cell_type": "code",
   "execution_count": 15,
   "metadata": {},
   "outputs": [
    {
     "ename": "UFuncTypeError",
     "evalue": "Cannot cast ufunc 'inv' input from dtype('O') to dtype('float64') with casting rule 'same_kind'",
     "output_type": "error",
     "traceback": [
      "\u001b[1;31m---------------------------------------------------------------------------\u001b[0m",
      "\u001b[1;31mUFuncTypeError\u001b[0m                            Traceback (most recent call last)",
      "Cell \u001b[1;32mIn[15], line 2\u001b[0m\n\u001b[0;32m      1\u001b[0m \u001b[38;5;66;03m# smp.Eq(resMatrix, (hMatrix+gMatrix)*np.linalg.inv(A))\u001b[39;00m\n\u001b[1;32m----> 2\u001b[0m resMatrix \u001b[38;5;241m=\u001b[39m (hMatrix\u001b[38;5;241m+\u001b[39mgMatrix)\u001b[38;5;241m*\u001b[39mnp\u001b[38;5;241m.\u001b[39mlinalg\u001b[38;5;241m.\u001b[39minv(A)\n",
      "File \u001b[1;32mc:\\Users\\alizhan\\anaconda3\\Lib\\site-packages\\numpy\\linalg\\linalg.py:561\u001b[0m, in \u001b[0;36minv\u001b[1;34m(a)\u001b[0m\n\u001b[0;32m    559\u001b[0m signature \u001b[38;5;241m=\u001b[39m \u001b[38;5;124m'\u001b[39m\u001b[38;5;124mD->D\u001b[39m\u001b[38;5;124m'\u001b[39m \u001b[38;5;28;01mif\u001b[39;00m isComplexType(t) \u001b[38;5;28;01melse\u001b[39;00m \u001b[38;5;124m'\u001b[39m\u001b[38;5;124md->d\u001b[39m\u001b[38;5;124m'\u001b[39m\n\u001b[0;32m    560\u001b[0m extobj \u001b[38;5;241m=\u001b[39m get_linalg_error_extobj(_raise_linalgerror_singular)\n\u001b[1;32m--> 561\u001b[0m ainv \u001b[38;5;241m=\u001b[39m _umath_linalg\u001b[38;5;241m.\u001b[39minv(a, signature\u001b[38;5;241m=\u001b[39msignature, extobj\u001b[38;5;241m=\u001b[39mextobj)\n\u001b[0;32m    562\u001b[0m \u001b[38;5;28;01mreturn\u001b[39;00m wrap(ainv\u001b[38;5;241m.\u001b[39mastype(result_t, copy\u001b[38;5;241m=\u001b[39m\u001b[38;5;28;01mFalse\u001b[39;00m))\n",
      "\u001b[1;31mUFuncTypeError\u001b[0m: Cannot cast ufunc 'inv' input from dtype('O') to dtype('float64') with casting rule 'same_kind'"
     ]
    }
   ],
   "source": [
    "# smp.Eq(resMatrix, (hMatrix+gMatrix)*np.linalg.inv(A))\n",
    "resMatrix = (hMatrix+gMatrix)*np.linalg.inv(A)"
   ]
  },
  {
   "cell_type": "code",
   "execution_count": null,
   "metadata": {},
   "outputs": [],
   "source": []
  }
 ],
 "metadata": {
  "kernelspec": {
   "display_name": "base",
   "language": "python",
   "name": "python3"
  },
  "language_info": {
   "codemirror_mode": {
    "name": "ipython",
    "version": 3
   },
   "file_extension": ".py",
   "mimetype": "text/x-python",
   "name": "python",
   "nbconvert_exporter": "python",
   "pygments_lexer": "ipython3",
   "version": "3.12.4"
  }
 },
 "nbformat": 4,
 "nbformat_minor": 2
}
