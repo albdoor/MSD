{
 "cells": [
  {
   "cell_type": "code",
   "execution_count": 2,
   "metadata": {},
   "outputs": [],
   "source": [
    "import numpy as np\n",
    "import sympy as smp\n",
    "from scipy.integrate import odeint\n",
    "from sympy.solvers.solveset import linsolve, nonlinsolve\n",
    "import matplotlib.pyplot as plt\n",
    "from numpy.linalg import inv"
   ]
  },
  {
   "cell_type": "code",
   "execution_count": 3,
   "metadata": {},
   "outputs": [],
   "source": [
    "w = 1\n",
    "def rot(theta, alpha):\n",
    "    rotation = smp.Matrix([[smp.cos(theta), -smp.cos(alpha) * smp.sin(theta), smp.sin(alpha) * smp.sin(theta)], \n",
    "                           [smp.sin(theta),  smp.cos(alpha) * smp.cos(theta), -smp.sin(alpha) * smp.cos(theta)], \n",
    "                           [0, smp.sin(alpha), smp.cos(alpha)]])\n",
    "    return rotation\n",
    "\n",
    "def rot_reverse(theta, alpha):\n",
    "    rev_rot = smp.Matrix([[smp.cos(theta), smp.sin(theta), 0], \n",
    "                          [-smp.cos(alpha) * smp.sin(theta), smp.cos(alpha) * smp.cos(theta), smp.sin(alpha)],\n",
    "                          [-smp.sin(alpha) * smp.sin(theta), -smp.sin(alpha) * smp.cos(theta), smp.cos(alpha)]])\n",
    "    return rev_rot\n",
    "\n",
    "def rotation(i, alpha, theta, n):\n",
    "    res = smp.Matrix.ones(n, n)\n",
    "    for k in range(i):\n",
    "         res  = res * rot(theta[k], alpha[k])\n",
    "    return res\n",
    "\n",
    "def q1(t):\n",
    "    return smp.sin(w*t) \n",
    "\n",
    "def q1d(t):\n",
    "    return smp.cos(w*t)\n",
    "\n",
    "def q1dd(t):\n",
    "    return -smp.sin(w*t) \n",
    "\n",
    "\n",
    "def q2(t):\n",
    "    return smp.sin(w*t) \n",
    "\n",
    "def q2d(t):\n",
    "    return smp.cos(w*t)\n",
    "\n",
    "def q2dd(t):\n",
    "    return -smp.sin(w*t) \n",
    "\n",
    "def omega(t):\n",
    "    return "
   ]
  },
  {
   "cell_type": "code",
   "execution_count": 4,
   "metadata": {},
   "outputs": [],
   "source": [
    "# t, g = smp.symbols('t g')\n",
    "# m1, m2 = smp.symbols('m1 m2')\n",
    "# L1, L2 = smp.symbols('L1, L2')\n",
    "# the1, the2= smp.symbols(r'\\theta_1, \\theta_2', cls=smp.Function)\n",
    "# the1 = the1(t)\n",
    "# the2 = the2(t)\n",
    "# A = np.array([[1/3*m1*L1**2+4/3*m2*L1**2+m2*smp.cos(the2)*L1**2, 1/3*m2*L1**2+1/2*m2*smp.cos(the2)*L1**2], [1/3*m2*L1**2+1/2*m2*smp.cos(the2)*L1**2, 1/3*m2*L1**2]])\n",
    "# g = smp.Matrix([0, 0, -9.8062])  # Gravity acceleration in z direction\n",
    "# omega = [smp.Matrix([0, 0, 0])]  # Angular velocity\n",
    "# alpha = [smp.Matrix([0, 0, 0])]  # Angular acceleration\n",
    "# v = [smp.Matrix([0, 0, 0])]  # Linear velocity\n",
    "# a = [g]  # Linear acceleration (initially set to gravity)"
   ]
  },
  {
   "cell_type": "code",
   "execution_count": 5,
   "metadata": {},
   "outputs": [],
   "source": [
    "# the1_d = smp.diff(the1, t)\n",
    "# the2_d = smp.diff(the2, t)\n",
    "# the1_dd = smp.diff(the1_d, t)\n",
    "# the2_dd = smp.diff(the2_d, t)"
   ]
  },
  {
   "cell_type": "code",
   "execution_count": 6,
   "metadata": {},
   "outputs": [],
   "source": [
    "# hMatrix = smp.Matrix([[-1/2*m2*smp.sin(the2)*L1**2*the2_d**2 - m2*smp.sin(the2)*L1**2*the1_d*the2_d], [1/2*m2*smp.sin(the2)*L1**2*the1_d**2]])\n",
    "# gMatrix = smp.Matrix([[(1/2*m1+m2)*g*L1*smp.cos(the1)+1/2*m2*g*L1*smp.cos(the1+the2)], [1/2*m2*g*L1*smp.cos(the1+the2)]])"
   ]
  },
  {
   "cell_type": "code",
   "execution_count": 7,
   "metadata": {},
   "outputs": [],
   "source": [
    "# resMatrix = smp.Matrix([[the1_dd], [the2_dd]])"
   ]
  },
  {
   "cell_type": "markdown",
   "metadata": {},
   "source": [
    "# THE REAL"
   ]
  },
  {
   "cell_type": "code",
   "execution_count": 26,
   "metadata": {},
   "outputs": [
    {
     "data": {
      "text/latex": [
       "$\\displaystyle \\left[\\begin{matrix}0\\\\0\\\\0\\end{matrix}\\right]$"
      ],
      "text/plain": [
       "Matrix([\n",
       "[0],\n",
       "[0],\n",
       "[0]])"
      ]
     },
     "execution_count": 26,
     "metadata": {},
     "output_type": "execute_result"
    }
   ],
   "source": [
    "alpha = smp.Matrix([[0, 0]]) * smp.pi/180\n",
    "theta = smp.Matrix([[0, 15, 30]]) * smp.pi/180\n",
    "n = 2\n",
    "# R10 = rot(the1, alpha[0])\n",
    "# # smp.Matrix([[smp.cos(the1), smp.sin(the1), 0], [-smp.sin(the1), smp.cos(the1), 0], [0, 0, 1]])\n",
    "# R21 = rot(the1, alpha[1])\n",
    "# # smp.Matrix([[smp.cos(the2), -smp.sin(the2), 0], [smp.sin(the2), smp.cos(the2), 0], [0, 0, 1]])\n",
    "# R20 = smp.Matrix([[smp.cos(the2+the1), smp.sin(the2+the1), 0], [-smp.sin(the2+the1), smp.cos(the2+the1), 0], [0, 0, 1]])\n",
    "z0 = smp.Matrix([[0, 0, 1]]).transpose()\n",
    "omega = smp.Matrix.zeros(3, 1)\n",
    "omega.col_insert(1, smp.Matrix([[0, 0, 1]]).transpose())\n",
    "omega[:, 0]"
   ]
  },
  {
   "cell_type": "code",
   "execution_count": 14,
   "metadata": {},
   "outputs": [
    {
     "data": {
      "text/latex": [
       "$\\displaystyle \\left[\\begin{matrix}0\\\\0\\\\-0.759687912858821\\end{matrix}\\right]$"
      ],
      "text/plain": [
       "Matrix([\n",
       "[                 0],\n",
       "[                 0],\n",
       "[-0.759687912858821]])"
      ]
     },
     "execution_count": 14,
     "metadata": {},
     "output_type": "execute_result"
    }
   ],
   "source": [
    "rot_reverse(q1d(15), alpha[0]) * (rot(q1d(15), alpha[0])*omega[:, 0] + z0*q1d(15)).evalf()"
   ]
  },
  {
   "cell_type": "code",
   "execution_count": null,
   "metadata": {},
   "outputs": [
    {
     "ename": "NameError",
     "evalue": "name 'n' is not defined",
     "output_type": "error",
     "traceback": [
      "\u001b[1;31m---------------------------------------------------------------------------\u001b[0m",
      "\u001b[1;31mNameError\u001b[0m                                 Traceback (most recent call last)",
      "Cell \u001b[1;32mIn[1], line 3\u001b[0m\n\u001b[0;32m      1\u001b[0m i \u001b[38;5;241m=\u001b[39m \u001b[38;5;241m0\u001b[39m\n\u001b[0;32m      2\u001b[0m \u001b[38;5;28;01mfor\u001b[39;00m t \u001b[38;5;129;01min\u001b[39;00m \u001b[38;5;28mrange\u001b[39m(\u001b[38;5;241m10000\u001b[39m):\n\u001b[1;32m----> 3\u001b[0m     \u001b[38;5;28;01mfor\u001b[39;00m i \u001b[38;5;129;01min\u001b[39;00m \u001b[38;5;28mrange\u001b[39m(n):\n\u001b[0;32m      4\u001b[0m         \u001b[38;5;28;01mif\u001b[39;00m \u001b[38;5;28;01mTrue\u001b[39;00m:  \u001b[38;5;66;03m# Assuming all joints are rotational for now\u001b[39;00m\n\u001b[0;32m      5\u001b[0m             omega \u001b[38;5;241m=\u001b[39m omega\u001b[38;5;241m.\u001b[39mcol_insert(\u001b[38;5;241m1\u001b[39m, rot_reverse(theta[i], alpha[i])\u001b[38;5;241m*\u001b[39m rot_reverse(theta[i], alpha[i]) \u001b[38;5;241m*\u001b[39m (rot(theta[i], alpha[i])\u001b[38;5;241m*\u001b[39momega[:, i] \u001b[38;5;241m+\u001b[39m z0\u001b[38;5;241m*\u001b[39mq1d(theta[i]))) \n",
      "\u001b[1;31mNameError\u001b[0m: name 'n' is not defined"
     ]
    }
   ],
   "source": [
    "i = 0\n",
    "for t in range(10000):\n",
    "    for i in range(n):\n",
    "        if True:  # Assuming all joints are rotational for now\n",
    "            omega = omega.col_insert(1, rot_reverse(theta[i], alpha[i])* rot_reverse(theta[i], alpha[i]) * (rot(theta[i], alpha[i])*omega[:, i] + z0*q1d(theta[i]))) \n",
    "        else:\n",
    "            omega.append(R[i].T * omega[i])\n",
    "            alpha.append(R[i].T * alpha[i])\n",
    "    for i in range(n, -1, -1):\n",
    "        if True:  # Assuming all joints are rotational for now\n",
    "            omega = omega.col_insert(1, rot_reverse(theta[i], alpha[i])* rot_reverse(theta[i], alpha[i]) * (rot(theta[i], alpha[i])*omega[:, i] + z0*q1d(theta[i]))) \n",
    "        else:\n",
    "            omega.append(R[i].T * omega[i])\n",
    "            alpha.append(R[i].T * alpha[i])\n",
    "\n",
    "\n",
    "omega[:, 1].evalf()"
   ]
  },
  {
   "cell_type": "code",
   "execution_count": null,
   "metadata": {},
   "outputs": [],
   "source": []
  }
 ],
 "metadata": {
  "kernelspec": {
   "display_name": "base",
   "language": "python",
   "name": "python3"
  },
  "language_info": {
   "codemirror_mode": {
    "name": "ipython",
    "version": 3
   },
   "file_extension": ".py",
   "mimetype": "text/x-python",
   "name": "python",
   "nbconvert_exporter": "python",
   "pygments_lexer": "ipython3",
   "version": "3.12.4"
  }
 },
 "nbformat": 4,
 "nbformat_minor": 2
}
