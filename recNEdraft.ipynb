{
  "cells": [
    {
      "cell_type": "code",
      "execution_count": 1,
      "metadata": {},
      "outputs": [
        {
          "name": "stdout",
          "output_type": "stream",
          "text": [
            "Angular Velocities: [Matrix([\n",
            "[0],\n",
            "[0],\n",
            "[0]]), Matrix([\n",
            "[  0],\n",
            "[  0],\n",
            "[qd1]]), Matrix([\n",
            "[      R31*qd1],\n",
            "[      R32*qd1],\n",
            "[R33*qd1 + qd2]])]\n",
            "Linear Accelerations: [Matrix([\n",
            "[      0],\n",
            "[      0],\n",
            "[-9.8062]]), Matrix([\n",
            "[-9.8062*R31],\n",
            "[-9.8062*R32],\n",
            "[-9.8062*R33]]), Matrix([\n",
            "[R11*(-9.8062*R31 - p1*qd1**2 - p2*qdd1) + R21*(-9.8062*R32 + p1*qdd1 - p2*qd1**2) - 9.8062*R31*R33],\n",
            "[R12*(-9.8062*R31 - p1*qd1**2 - p2*qdd1) + R22*(-9.8062*R32 + p1*qdd1 - p2*qd1**2) - 9.8062*R32*R33],\n",
            "[ R13*(-9.8062*R31 - p1*qd1**2 - p2*qdd1) + R23*(-9.8062*R32 + p1*qdd1 - p2*qd1**2) - 9.8062*R33**2]])]\n",
            "Forces: [Matrix([\n",
            "[-9.8062*R31*m1],\n",
            "[-9.8062*R32*m1],\n",
            "[-9.8062*R33*m1]]), Matrix([\n",
            "[m2*(R11*(-9.8062*R31 - p1*qd1**2 - p2*qdd1) + R21*(-9.8062*R32 + p1*qdd1 - p2*qd1**2) - 9.8062*R31*R33)],\n",
            "[m2*(R12*(-9.8062*R31 - p1*qd1**2 - p2*qdd1) + R22*(-9.8062*R32 + p1*qdd1 - p2*qd1**2) - 9.8062*R32*R33)],\n",
            "[ m2*(R13*(-9.8062*R31 - p1*qd1**2 - p2*qdd1) + R23*(-9.8062*R32 + p1*qdd1 - p2*qd1**2) - 9.8062*R33**2)]])]\n",
            "Torques: [Matrix([\n",
            "[I13*qdd1 - I23*qd1**2],\n",
            "[I13*qd1**2 + I23*qdd1],\n",
            "[             I33*qdd1]]), Matrix([\n",
            "[I11*(R31*qdd1 - R32*qd1*qd2) + I12*(R31*qd1*qd2 + R32*qdd1) + I13*(R33*qdd1 + qdd2) + R32*qd1*(I31*R31*qd1 + I32*R32*qd1 + I33*(R33*qd1 + qd2)) - (R33*qd1 + qd2)*(I21*R31*qd1 + I22*R32*qd1 + I23*(R33*qd1 + qd2))],\n",
            "[I21*(R31*qdd1 - R32*qd1*qd2) + I22*(R31*qd1*qd2 + R32*qdd1) + I23*(R33*qdd1 + qdd2) - R31*qd1*(I31*R31*qd1 + I32*R32*qd1 + I33*(R33*qd1 + qd2)) + (R33*qd1 + qd2)*(I11*R31*qd1 + I12*R32*qd1 + I13*(R33*qd1 + qd2))],\n",
            "[        I31*(R31*qdd1 - R32*qd1*qd2) + I32*(R31*qd1*qd2 + R32*qdd1) + I33*(R33*qdd1 + qdd2) + R31*qd1*(I21*R31*qd1 + I22*R32*qd1 + I23*(R33*qd1 + qd2)) - R32*qd1*(I11*R31*qd1 + I12*R32*qd1 + I13*(R33*qd1 + qd2))]])]\n"
          ]
        }
      ],
      "source": [
        "import numpy as np\n",
        "import sympy as sp\n",
        "\n",
        "# Define symbols\n",
        "n = 2  # Number of links (Example)\n",
        "t = sp.Symbol('t')  # Time variable\n",
        "\n",
        "# Generalized coordinates (joint angles or displacements) and their derivatives\n",
        "q = sp.symbols(f'q1:{n+1}')  # q1, q2, ..., qn\n",
        "qd = sp.symbols(f'qd1:{n+1}')  # q̇1, q̇2, ..., q̇n\n",
        "qdd = sp.symbols(f'qdd1:{n+1}')  # q̈1, q̈2, ..., q̈n\n",
        "\n",
        "# Gravity vector\n",
        "g = sp.Matrix([0, 0, -9.8062])  # Gravity acceleration in z direction\n",
        "\n",
        "# Define link parameters\n",
        "m = sp.symbols(f'm1:{n+1}')  # Masses of links\n",
        "I = [sp.Matrix(3, 3, lambda i, j: sp.Symbol(f'I{i+1}{j+1}')) for i in range(n)]  # Inertia matrices\n",
        "R = [sp.Matrix(3, 3, lambda i, j: sp.Symbol(f'R{i+1}{j+1}')) for i in range(n)]  # Rotation matrices\n",
        "p = [sp.Matrix(3, 1, lambda i, j: sp.Symbol(f'p{i+1}')) for i in range(n)]  # Position vectors\n",
        "    \n",
        "# Initialize recursion variables\n",
        "omega = [sp.Matrix([0, 0, 0])]  # Angular velocity\n",
        "alpha = [sp.Matrix([0, 0, 0])]  # Angular acceleration\n",
        "v = [sp.Matrix([0, 0, 0])]  # Linear velocity\n",
        "a = [g]  # Linear acceleration (initially set to gravity)\n",
        "\n",
        "# Forward recursion (kinematics)\n",
        "for i in range(n):\n",
        "    if True:  # Assuming all joints are rotational for now\n",
        "        omega.append(R[i].T * omega[i] + sp.Matrix([0, 0, qd[i]]))\n",
        "        alpha.append(R[i].T * alpha[i] + sp.Matrix([0, 0, qdd[i]]) + omega[i].dot(R[i].T * sp.Matrix([0, 0, qd[i]])))\n",
        "    else:\n",
        "        omega.append(R[i].T * omega[i])\n",
        "        alpha.append(R[i].T * alpha[i])\n",
        "    \n",
        "    v.append(R[i].T * (v[i] + omega[i].dot(p[i])))\n",
        "    a.append(R[i].T * (a[i] + alpha[i].dot(p[i]) + omega[i].dot(omega[i].dot(p[i]))))\n",
        "\n",
        "# Initialize force and torque vectors\n",
        "f = [sp.Matrix([0, 0, 0]) for _ in range(n)]\n",
        "tau = [0] * n\n",
        "\n",
        "# Backward recursion (forces and torques)\n",
        "for i in reversed(range(n)):\n",
        "    f[i] = m[i] * a[i+1]  # Newton’s Second Law\n",
        "    tau[i] = I[i] * alpha[i+1] + omega[i+1].dot(I[i] * omega[i+1])  # Euler’s equation\n",
        "\n",
        "# Display results\n",
        "print(\"Angular Velocities:\", omega)\n",
        "print(\"Linear Accelerations:\", a)\n",
        "print(\"Forces:\", f)\n",
        "print(\"Torques:\", tau)\n"
      ]
    },
    {
      "cell_type": "code",
      "execution_count": 6,
      "metadata": {},
      "outputs": [
        {
          "data": {
            "text/latex": [
              "$\\displaystyle \\left[\\begin{matrix}R_{11} & R_{12} & R_{13}\\\\R_{21} & R_{22} & R_{23}\\\\R_{31} & R_{32} & R_{33}\\end{matrix}\\right]$"
            ],
            "text/plain": [
              "Matrix([\n",
              "[R11, R12, R13],\n",
              "[R21, R22, R23],\n",
              "[R31, R32, R33]])"
            ]
          },
          "execution_count": 6,
          "metadata": {},
          "output_type": "execute_result"
        }
      ],
      "source": [
        "R[1]"
      ]
    },
    {
      "cell_type": "code",
      "execution_count": null,
      "metadata": {},
      "outputs": [],
      "source": []
    }
  ],
  "metadata": {
    "kernelspec": {
      "display_name": "base",
      "language": "python",
      "name": "python3"
    },
    "language_info": {
      "codemirror_mode": {
        "name": "ipython",
        "version": 3
      },
      "file_extension": ".py",
      "mimetype": "text/x-python",
      "name": "python",
      "nbconvert_exporter": "python",
      "pygments_lexer": "ipython3",
      "version": "3.12.4"
    }
  },
  "nbformat": 4,
  "nbformat_minor": 2
}
