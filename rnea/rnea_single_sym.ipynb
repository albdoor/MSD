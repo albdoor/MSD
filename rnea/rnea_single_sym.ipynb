{
 "cells": [
  {
   "cell_type": "code",
   "execution_count": null,
   "metadata": {},
   "outputs": [],
   "source": []
  },
  {
   "cell_type": "code",
   "execution_count": 6,
   "metadata": {},
   "outputs": [
    {
     "name": "stdout",
     "output_type": "stream",
     "text": [
      "a:\\uni\\masters nu\\RA\\pythonCode\\rnea\n",
      "['double3Dpendthetas.npy', 'Figure_1.png', 'Figure_2.png', 'LE_matlab.m', 'LE_wolfram.nb', 'NE_matlab.m', 'rnea.py', 'rnea_old.py', 'rnea_single_link _simplesty.py', 'rnea_single_link.py', 'rnea_single_sym.ipynb', 'simplePendLE.mat']\n"
     ]
    }
   ],
   "source": [
    "import sympy as sp\n",
    "import numpy as np\n",
    "import matplotlib.pyplot as plt\n",
    "from IPython.display import display, Math\n",
    "import os\n",
    "print(os.getcwd())  # Print the current working directory\n",
    "print(os.listdir()) # List all files in the current directory\n",
    "def load_joint_data(npy_filename):\n",
    "    \"\"\"\n",
    "    Loads joint position (q), velocity (qd), and acceleration (qdd) from a CSV file.\n",
    "\n",
    "    \"\"\"\n",
    "    data = np.load(npy_filename, allow_pickle=True)\n",
    "    data = data[0] if isinstance(data[0], list) else data\n",
    "    q = np.vstack((data[0])).T\n",
    "    qd = np.vstack((data[1])).T \n",
    "    qdd = np.vstack((data[2])).T \n",
    "    return q, qd, qdd\n",
    "\n",
    "q_csv, qd_csv, qdd_csv = load_joint_data('../data/simplePendLE.npy')"
   ]
  },
  {
   "cell_type": "code",
   "execution_count": 8,
   "metadata": {},
   "outputs": [
    {
     "name": "stdout",
     "output_type": "stream",
     "text": [
      "Deriving symbolic equations for a single pendulum using RNEA...\n",
      "\n",
      "Equation of Motion (EOM):\n"
     ]
    },
    {
     "data": {
      "text/latex": [
       "$\\displaystyle \\tau_{ext}{\\left(t \\right)} = I \\frac{d^{2}}{d t^{2}} q{\\left(t \\right)} + b \\frac{d}{d t} q{\\left(t \\right)} + g l m \\sin^{2}{\\left(q{\\left(t \\right)} \\right)} - \\frac{g l m}{2} - \\frac{l^{2} m \\frac{d^{2}}{d t^{2}} q{\\left(t \\right)}}{4}$"
      ],
      "text/plain": [
       "<IPython.core.display.Math object>"
      ]
     },
     "metadata": {},
     "output_type": "display_data"
    },
    {
     "name": "stdout",
     "output_type": "stream",
     "text": [
      "\n",
      "Expanded expression for required torque:\n"
     ]
    },
    {
     "data": {
      "text/latex": [
       "$\\displaystyle I \\frac{d^{2}}{d t^{2}} q{\\left(t \\right)} + b \\frac{d}{d t} q{\\left(t \\right)} + g l m \\sin^{2}{\\left(q{\\left(t \\right)} \\right)} - \\frac{g l m}{2} - \\frac{l^{2} m \\frac{d^{2}}{d t^{2}} q{\\left(t \\right)}}{4}$"
      ],
      "text/plain": [
       "<IPython.core.display.Math object>"
      ]
     },
     "metadata": {},
     "output_type": "display_data"
    },
    {
     "name": "stdout",
     "output_type": "stream",
     "text": [
      "\n",
      "Expression for angular acceleration (qdd):\n"
     ]
    },
    {
     "data": {
      "text/latex": [
       "$\\displaystyle \\frac{d^{2}}{d t^{2}} q{\\left(t \\right)} = \\frac{2 \\left(2 b \\frac{d}{d t} q{\\left(t \\right)} - g l m \\cos{\\left(2 q{\\left(t \\right)} \\right)} - 2 \\tau_{ext}{\\left(t \\right)}\\right)}{l^{2} m}$"
      ],
      "text/plain": [
       "<IPython.core.display.Math object>"
      ]
     },
     "metadata": {},
     "output_type": "display_data"
    },
    {
     "name": "stdout",
     "output_type": "stream",
     "text": [
      "\n",
      "Specifying external torque as a sine function:\n"
     ]
    },
    {
     "data": {
      "text/latex": [
       "$\\displaystyle \\tau_{ext}{\\left(t \\right)} = 2 \\sin{\\left(0.5 t \\right)}$"
      ],
      "text/plain": [
       "<IPython.core.display.Math object>"
      ]
     },
     "metadata": {},
     "output_type": "display_data"
    },
    {
     "name": "stdout",
     "output_type": "stream",
     "text": [
      "\n",
      "Equation of motion with the specified input torque:\n"
     ]
    },
    {
     "data": {
      "text/latex": [
       "$\\displaystyle 2 \\sin{\\left(0.5 t \\right)} = I \\frac{d^{2}}{d t^{2}} q{\\left(t \\right)} + b \\frac{d}{d t} q{\\left(t \\right)} + g l m \\sin^{2}{\\left(q{\\left(t \\right)} \\right)} - \\frac{g l m}{2} - \\frac{l^{2} m \\frac{d^{2}}{d t^{2}} q{\\left(t \\right)}}{4}$"
      ],
      "text/plain": [
       "<IPython.core.display.Math object>"
      ]
     },
     "metadata": {},
     "output_type": "display_data"
    },
    {
     "name": "stdout",
     "output_type": "stream",
     "text": [
      "\n",
      "Numerical simulation with specific parameter values:\n",
      "\n",
      "Torque expression with numerical values:\n"
     ]
    },
    {
     "data": {
      "text/latex": [
       "$\\displaystyle 9.81 \\sin^{2}{\\left(q{\\left(t \\right)} \\right)} - 0.15 \\frac{d^{2}}{d t^{2}} q{\\left(t \\right)} - 4.905$"
      ],
      "text/plain": [
       "<IPython.core.display.Math object>"
      ]
     },
     "metadata": {},
     "output_type": "display_data"
    },
    {
     "name": "stdout",
     "output_type": "stream",
     "text": [
      "\n",
      "Simulating the pendulum response to the input torque...\n"
     ]
    },
    {
     "ename": "IndexError",
     "evalue": "index 1 is out of bounds for axis 0 with size 1",
     "output_type": "error",
     "traceback": [
      "\u001b[1;31m---------------------------------------------------------------------------\u001b[0m",
      "\u001b[1;31mIndexError\u001b[0m                                Traceback (most recent call last)",
      "Cell \u001b[1;32mIn[8], line 185\u001b[0m\n\u001b[0;32m    182\u001b[0m i \u001b[38;5;241m=\u001b[39m \u001b[38;5;241m0\u001b[39m\n\u001b[0;32m    183\u001b[0m \u001b[38;5;28;01mfor\u001b[39;00m t_val \u001b[38;5;129;01min\u001b[39;00m time:\n\u001b[0;32m    184\u001b[0m     \u001b[38;5;66;03m# Sample motion values\u001b[39;00m\n\u001b[1;32m--> 185\u001b[0m     q_val \u001b[38;5;241m=\u001b[39m q_csv[i]\n\u001b[0;32m    186\u001b[0m     qd_val \u001b[38;5;241m=\u001b[39m qd_csv[i]\n\u001b[0;32m    187\u001b[0m     qdd_val \u001b[38;5;241m=\u001b[39m qdd_csv[i]\n",
      "\u001b[1;31mIndexError\u001b[0m: index 1 is out of bounds for axis 0 with size 1"
     ]
    }
   ],
   "source": [
    "\n",
    "# Define symbolic variables\n",
    "t = sp.Symbol('t', real=True)  # Time variable\n",
    "q = sp.Function('q')(t)        # Joint position as a function of time\n",
    "qd = q.diff(t)                 # Joint velocity (first derivative)\n",
    "qdd = qd.diff(t)               # Joint acceleration (second derivative)\n",
    "\n",
    "# Parameters\n",
    "m = sp.Symbol('m', positive=True)       # Mass\n",
    "l = sp.Symbol('l', positive=True)       # Length\n",
    "g = sp.Symbol('g', positive=True)       # Gravity\n",
    "b = sp.Symbol('b', real=True)           # Damping coefficient\n",
    "I = sp.Symbol('I', positive=True)       # Moment of inertia\n",
    "\n",
    "# Define symbolic functions for external torque\n",
    "tau_ext = sp.Function('tau_ext')(t)\n",
    "\n",
    "# Symbolic implementation of rotation matrix\n",
    "def rotation_matrix_sym(theta, alpha):\n",
    "    return sp.Matrix([\n",
    "        [sp.cos(theta), -sp.cos(alpha) * sp.sin(theta), sp.sin(alpha) * sp.sin(theta)],\n",
    "        [sp.sin(theta), sp.cos(alpha) * sp.cos(theta), -sp.sin(alpha) * sp.cos(theta)],\n",
    "        [0, sp.sin(alpha), sp.cos(alpha)]\n",
    "    ])\n",
    "\n",
    "def rotation_matrix_to_base_sym(theta):\n",
    "    # For a single link pendulum, this is simply the rotation matrix\n",
    "    return sp.Matrix([\n",
    "        [sp.cos(theta), -sp.sin(theta), 0],\n",
    "        [sp.sin(theta), sp.cos(theta), 0],\n",
    "        [0, 0, 1]\n",
    "    ])\n",
    "\n",
    "def s_vector_sym(theta, length):\n",
    "    # Center of mass position vector (relative to joint)\n",
    "    return sp.Matrix([\n",
    "        [-length/2 * sp.cos(theta)],\n",
    "        [-length/2 * sp.sin(theta)],\n",
    "        [0]\n",
    "    ])\n",
    "\n",
    "def p_star_vector_sym(theta, length):\n",
    "    # End-point position vector\n",
    "    return sp.Matrix([\n",
    "        [length * sp.cos(theta)],\n",
    "        [length * sp.sin(theta)],\n",
    "        [0]\n",
    "    ])\n",
    "\n",
    "# Symbolic implementation of RNEA for a single pendulum\n",
    "def symbolic_rnea_single_pendulum():\n",
    "    print(\"Deriving symbolic equations for a single pendulum using RNEA...\")\n",
    "    \n",
    "    # Define gravity vector\n",
    "    gravity = sp.Matrix([0, -g, 0])\n",
    "    \n",
    "    # Joint type (1 for revolute)\n",
    "    j_type = 1\n",
    "    \n",
    "    # Rotation matrix for the link\n",
    "    R = rotation_matrix_sym(q, 0)\n",
    "    R_base = rotation_matrix_to_base_sym(q)\n",
    "    \n",
    "    # Position vectors\n",
    "    p_star_vec = p_star_vector_sym(q, l)\n",
    "    s_bar_vec = s_vector_sym(q, l)\n",
    "    \n",
    "    # 1. Forward recursion\n",
    "    # Angular velocity and acceleration\n",
    "    omega = sp.Matrix([0, 0, qd])\n",
    "    omegad = sp.Matrix([0, 0, qdd])\n",
    "    \n",
    "    # Linear acceleration (including gravity)\n",
    "    vd = gravity\n",
    "    \n",
    "    # Center of mass acceleration\n",
    "    a_c = omegad.cross(R_base * s_bar_vec) + omega.cross(omega.cross(R_base * s_bar_vec)) + vd\n",
    "    \n",
    "    # 2. Backward recursion\n",
    "    # Compute force: F = m * a_c\n",
    "    F = m * a_c\n",
    "    \n",
    "    # Compute torque: N = I * ω̇ + ω × (I * ω)\n",
    "    # For a simple pendulum with inertia about z-axis\n",
    "    I_tensor = sp.Matrix([\n",
    "        [0, 0, 0],\n",
    "        [0, 0, 0],\n",
    "        [0, 0, I]\n",
    "    ])\n",
    "    \n",
    "    N = R_base * I_tensor * R_base.T * omegad + omega.cross(R_base * I_tensor * R_base.T * omega)\n",
    "    \n",
    "    # Link force and torque\n",
    "    f = F\n",
    "    n_torque = (R_base * p_star_vec + R_base * s_bar_vec).cross(F) + N\n",
    "    \n",
    "    # Joint torque (for revolute joint)\n",
    "    z_axis = sp.Matrix([0, 0, 1])\n",
    "    tau = n_torque.dot(z_axis) + b * qd\n",
    "    \n",
    "    # Simplify the expression\n",
    "    tau_simplified = sp.simplify(tau)\n",
    "    \n",
    "    # Equation of motion: tau_ext = tau\n",
    "    eom = sp.Eq(tau_ext, tau_simplified)\n",
    "    \n",
    "    return eom, tau_simplified\n",
    "\n",
    "# Execute the symbolic derivation\n",
    "eom, tau_expr = symbolic_rnea_single_pendulum()\n",
    "\n",
    "# Display the equation of motion\n",
    "print(\"\\nEquation of Motion (EOM):\")\n",
    "display(Math(sp.latex(eom)))\n",
    "\n",
    "print(\"\\nExpanded expression for required torque:\")\n",
    "display(Math(sp.latex(tau_expr)))\n",
    "\n",
    "# Rearrange to get the standard form of pendulum dynamics\n",
    "# tau_ext - other terms = I*qdd\n",
    "qdd_expr = sp.solve(sp.Eq(tau_ext - tau_expr + I*qdd, 0), qdd)[0]\n",
    "print(\"\\nExpression for angular acceleration (qdd):\")\n",
    "display(Math(sp.latex(sp.Eq(qdd, qdd_expr))))\n",
    "\n",
    "# Now let's define a specific external torque function to compare with the original code\n",
    "print(\"\\nSpecifying external torque as a sine function:\")\n",
    "tau_ext_func = 2 * sp.sin(0.5 * t)\n",
    "display(Math(sp.latex(sp.Eq(tau_ext, tau_ext_func))))\n",
    "\n",
    "# Substitute the external torque into the equation of motion\n",
    "eom_with_input = eom.subs(tau_ext, tau_ext_func)\n",
    "print(\"\\nEquation of motion with the specified input torque:\")\n",
    "display(Math(sp.latex(eom_with_input)))\n",
    "\n",
    "# Define numerical values for simulation\n",
    "print(\"\\nNumerical simulation with specific parameter values:\")\n",
    "param_values = {\n",
    "    m: 1.0,\n",
    "    l: 1.0,\n",
    "    g: 9.81,\n",
    "    I: 0.1,\n",
    "    b: 0\n",
    "}\n",
    "\n",
    "# Substitute the parameter values\n",
    "tau_numeric = tau_expr.subs(param_values)\n",
    "print(\"\\nTorque expression with numerical values:\")\n",
    "display(Math(sp.latex(tau_numeric)))\n",
    "\n",
    "# Define a function to convert symbolic expressions to numpy functions\n",
    "def sym_to_numpy(expr, vars_list):\n",
    "    return sp.lambdify(vars_list, expr, \"numpy\")\n",
    "\n",
    "# Create numpy functions for numerical simulation\n",
    "tau_func = sym_to_numpy(tau_numeric, [q, qd, qdd])\n",
    "\n",
    "# For comparison with the original code, let's also define the input torque function\n",
    "def tau_input(t_val):\n",
    "    return np.array([2 * np.sin(0.5 * t_val), 1.5 * np.cos(0.5 * t_val)])\n",
    "\n",
    "# Now let's simulate a simple pendulum response to visualize\n",
    "print(\"\\nSimulating the pendulum response to the input torque...\")\n",
    "\n",
    "# For a more comprehensive analysis, we would solve the ODE here\n",
    "# But for simplicity, let's just plot the torque for given motion\n",
    "\n",
    "# Define a sample motion pattern\n",
    "def sample_q(t_val):\n",
    "    return np.sin(t_val) + 0.5 * np.cos(0.5 * t_val)\n",
    "\n",
    "def sample_qd(t_val):\n",
    "    return np.cos(t_val) - 0.25 * np.sin(0.5 * t_val)\n",
    "\n",
    "def sample_qdd(t_val):\n",
    "    return -np.sin(t_val) - 0.125 * np.cos(0.5 * t_val)\n",
    "\n",
    "# Time steps\n",
    "time = np.linspace(0, 10, 1000)\n",
    "\n",
    "# Compute torques for the sample motion\n",
    "computed_torques = []\n",
    "input_torques = []\n",
    "i = 0\n",
    "for t_val in time:\n",
    "    # Sample motion values\n",
    "    q_val = q_csv[i]\n",
    "    qd_val = qd_csv[i]\n",
    "    qdd_val = qdd_csv[i]\n",
    "    i+=1\n",
    "    # Computed torque required for this motion\n",
    "    torque = tau_func(q_val, qd_val, qdd_val)\n",
    "    computed_torques.append(torque)\n",
    "    \n",
    "    # Input torque from the function\n",
    "    input_torque = tau_input(t_val)[0]  # First element only\n",
    "    input_torques.append(input_torque)\n",
    "\n",
    "# Plot results\n",
    "plt.figure(figsize=(10, 6))\n",
    "plt.plot(time, computed_torques, label='Computed Torque (RNEA)')\n",
    "plt.plot(time, input_torques, label='Input Torque')\n",
    "plt.plot(time, [sample_qd(t) for t in time], label='qd (Velocity)')\n",
    "plt.xlabel('Time (s)')\n",
    "plt.ylabel('Torque (Nm) / Velocity (rad/s)')\n",
    "plt.title('Pendulum Dynamics: Torque and Velocity')\n",
    "plt.legend()\n",
    "plt.grid(True)\n",
    "plt.show()\n",
    "\n",
    "# Symbolic derivation for a double pendulum\n",
    "# This would extend the above analysis but is more complex\n",
    "print(\"\\nFor extending to a double pendulum, we would:\")\n",
    "print(\"1. Define additional symbolic variables for the second joint\")\n",
    "print(\"2. Extend the rotation matrices and position vectors\")\n",
    "print(\"3. Follow the same RNEA approach with recursive forward and backward passes\")\n",
    "print(\"4. Derive the coupled equations of motion\")"
   ]
  },
  {
   "cell_type": "code",
   "execution_count": null,
   "metadata": {},
   "outputs": [],
   "source": []
  }
 ],
 "metadata": {
  "kernelspec": {
   "display_name": "base",
   "language": "python",
   "name": "python3"
  },
  "language_info": {
   "codemirror_mode": {
    "name": "ipython",
    "version": 3
   },
   "file_extension": ".py",
   "mimetype": "text/x-python",
   "name": "python",
   "nbconvert_exporter": "python",
   "pygments_lexer": "ipython3",
   "version": "3.12.4"
  }
 },
 "nbformat": 4,
 "nbformat_minor": 2
}
